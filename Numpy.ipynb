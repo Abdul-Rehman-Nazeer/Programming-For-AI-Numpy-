{
 "cells": [
  {
   "cell_type": "code",
   "execution_count": 40,
   "id": "d73078f7-8a55-48ad-b7fb-45a0a10691bd",
   "metadata": {},
   "outputs": [
    {
     "name": "stdout",
     "output_type": "stream",
     "text": [
      "[22 24 26 28 30 32 34 36 38 40 42 44 46 48]\n"
     ]
    }
   ],
   "source": [
    "# q1. Write a program to create numpy array or vector of all the even integers from 20 to 50\n",
    "# exluding 20 and 50.\n",
    "\n",
    "import numpy as np\n",
    "\n",
    "a = 22\n",
    "z = 50 #since list always goes until \"length-1\" so 50 would be excluded automatically.\n",
    "\n",
    "even_numbers_list = []\n",
    "\n",
    "for num in range(a,z,2):\n",
    "    even_numbers_list.append(num)\n",
    "\n",
    "even_numbers_nparray = np.array(even_numbers_list) #converting list to np.array\n",
    "\n",
    "print(even_numbers_nparray)"
   ]
  },
  {
   "cell_type": "code",
   "execution_count": 9,
   "id": "0ccf385e-556a-4fab-9c10-32173bc33a72",
   "metadata": {},
   "outputs": [
    {
     "name": "stdout",
     "output_type": "stream",
     "text": [
      "1 3 5 \n",
      "7 9 11 \n",
      "13 15 17 \n"
     ]
    }
   ],
   "source": [
    "# q2. Create a multi-dimensional array of 3 rows and 3 columns having odd numbers from 1 to\n",
    "# 19 including 1 and excluding 19. After that, iterate over this array to print all elements.\n",
    "\n",
    "import numpy as np\n",
    "\n",
    "odd = np.arange(1, 19, 2).reshape(3, 3)\n",
    "\n",
    "for row in odd_numbers_array:\n",
    "    for element in row:\n",
    "        print(element, end=\" \")\n",
    "    print() #this will add new line after one complete iteration of the inner loop\n"
   ]
  },
  {
   "cell_type": "code",
   "execution_count": 38,
   "id": "649b4bfc-0986-4206-9ab4-7725afd88ec8",
   "metadata": {},
   "outputs": [
    {
     "name": "stdout",
     "output_type": "stream",
     "text": [
      "Orignal Array is \n",
      " [[ 2  4  6]\n",
      " [ 8 10 12]\n",
      " [14 16 18]]\n",
      "\n",
      "Array after multiplying by 4 is \n",
      " [[ 8 16 24]\n",
      " [32 40 48]\n",
      " [56 64 72]]\n",
      "\n",
      "Identity matrix is \n",
      " [[1 0 0]\n",
      " [0 1 0]\n",
      " [0 0 1]]\n",
      "\n",
      "MATRIX after Multiplying by identity matrix is\n",
      " [[ 8  0  0]\n",
      " [ 0 40  0]\n",
      " [ 0  0 72]]\n",
      "\n"
     ]
    }
   ],
   "source": [
    "# q3. Create 3x3 matrix containing only even numbers. Multiply each element of this array with\n",
    "# 4 and then multiply resultant matrix with 3x3 identity matrix (identity matrix should not be\n",
    "# hardcoded).\n",
    "\n",
    "import numpy as np\n",
    "\n",
    "even_arr = np.arange(2,20,2).reshape(3,3) #sample matrix\n",
    "\n",
    "print(\"Orignal Array is \\n\",even_arr)\n",
    "print()\n",
    "\n",
    "x=even_arr*4\n",
    "print(\"Array after multiplying by 4 is \\n\",x)\n",
    "print()\n",
    "\n",
    "i=np.eye(3,dtype=int)\n",
    "\n",
    "print(\"Identity matrix is \\n\",i)\n",
    "print()\n",
    "z=i*x\n",
    "print(\"MATRIX after Multiplying by identity matrix is\\n\",z)\n",
    "print()\n"
   ]
  },
  {
   "cell_type": "code",
   "execution_count": 36,
   "id": "72b3a1da-35cc-4e80-95a2-fd7ba5635955",
   "metadata": {},
   "outputs": [
    {
     "name": "stdout",
     "output_type": "stream",
     "text": [
      "Original Array\n",
      " [(b'Ali', 160.5, 10) (b'Fatima', 175.2, 12) (b'Zahid', 150.3, 10)\n",
      " (b'Sana', 172.7, 11) (b'Ahmed', 160.5, 12)]\n",
      "\n",
      "Sorted Array by class and then by height if classes are equal:\n",
      " [(b'Zahid', 150.3, 10) (b'Ali', 160.5, 10) (b'Sana', 172.7, 11)\n",
      " (b'Ahmed', 160.5, 12) (b'Fatima', 175.2, 12)]\n"
     ]
    }
   ],
   "source": [
    "# q4. Write a NumPy program to create a structured array from given student name, height, class\n",
    "# and their data types. Now sort by class, then height if class are equal.\n",
    "\n",
    "import numpy as np\n",
    "\n",
    "dtype = [('name', 'S15'), ('height', 'float64'), ('class', int)]\n",
    "\n",
    "data = np.array([('Ali', 160.5, 10),\n",
    "                        ('Fatima', 175.2, 12),\n",
    "                        ('Zahid', 150.3, 10),\n",
    "                        ('Sana', 172.7, 11),\n",
    "                        ('Ahmed', 160.5, 12)],\n",
    "                        dtype=dtype)\n",
    "\n",
    "print(\"Original Array\\n\", data)\n",
    "\n",
    "sorted= np.sort(data, order=['class', 'height'])\n",
    "\n",
    "print(\"\\nSorted Array by class and then by height if classes are equal:\\n\", sorted)\n"
   ]
  },
  {
   "cell_type": "code",
   "execution_count": 51,
   "id": "e12dfd1a-f013-43d6-92f5-2698b28d199c",
   "metadata": {},
   "outputs": [
    {
     "name": "stdout",
     "output_type": "stream",
     "text": [
      "Random array generated from given list is:\n",
      " [[ 9  2  2 10]\n",
      " [ 2 10  5  9]\n",
      " [ 5 10 10  9]\n",
      " [ 2  2  5  2]]\n",
      "After multiplying the random array with identity matrix we get:\n",
      " [[ 9  0  0  0]\n",
      " [ 0 10  0  0]\n",
      " [ 0  0 10  0]\n",
      " [ 0  0  0  2]]\n",
      "Matrix of odd integers:\n",
      " [[ 1  3  5  7]\n",
      " [ 9 11 13 15]\n",
      " [17 19 21 23]\n",
      " [25 27 29 31]]\n",
      "Adding this matrix to an odd matrix we get:\n",
      " [[10  3  5  7]\n",
      " [ 9 21 13 15]\n",
      " [17 19 31 23]\n",
      " [25 27 29 33]]\n"
     ]
    }
   ],
   "source": [
    "# q5. Generate 4x4 matrix with random numbers only from (2,5,9,10) and then multiply this\n",
    "# matrix with identity matrix. Finally add this matrix to any 4x4 matrix having only odd\n",
    "# numbers.\n",
    "\n",
    "import numpy as np\n",
    "from numpy import random as r\n",
    "\n",
    "x=r.choice([2,5,9,10],size=(4,4))\n",
    "print(\"Random array generated from given list is:\\n\",x)\n",
    "\n",
    "i=np.eye(4,dtype=int)\n",
    "z=i*x\n",
    "print(\"After multiplying the random array with identity matrix we get:\\n\",z)\n",
    "\n",
    "odd=np.arange(1,33,2).reshape(4,4)#33will be excluded bcz array is always length-1\n",
    "print(\"Matrix of odd integers:\\n\",odd)\n",
    "print(\"Adding this matrix to an odd matrix we get:\\n\",odd+z)\n"
   ]
  },
  {
   "cell_type": "code",
   "execution_count": 69,
   "id": "a25ef08b-ba7a-45bc-9ee3-ec7a2cb17968",
   "metadata": {},
   "outputs": [
    {
     "name": "stdout",
     "output_type": "stream",
     "text": [
      "Random Matrix A of size(5x3):\n",
      " [[9 5 6]\n",
      " [6 7 3]\n",
      " [3 4 5]\n",
      " [6 1 1]\n",
      " [5 6 2]]\n",
      "\n",
      "Random Matrix B of size(3x2):\n",
      " [[19 17]\n",
      " [12 11]\n",
      " [12 12]]\n",
      "\n",
      "Result Matrix (5x2) after multiplication:\n",
      " [[303 280]\n",
      " [234 215]\n",
      " [165 155]\n",
      " [138 125]\n",
      " [191 175]]\n"
     ]
    }
   ],
   "source": [
    "# q6. Write a NumPy program to multiply a 5x3 matrix by a 3x2.\n",
    "\n",
    "import numpy as np\n",
    "from numpy import random as r\n",
    "#SYNTAAX[min_value, max_value,array_size=(x,y)]\n",
    "a = np.random.randint(1, 10, size=(5, 3))#we cant use keyword r for random IF we are already using a keyword for np.\n",
    "                                         #we have to call it by its fullname i.e random\n",
    "                                         #so either the \"a=r.randint(1,10,size(5,3))\" or \"a=np.random.randint(1,10,size(5,3))\n",
    "b= np.random.randint(11, 20, size=(3, 2))\n",
    "\n",
    "result = np.dot(a, b)#used for matrix multiplication\n",
    "\n",
    "print(\"Random Matrix A of size(5x3):\\n\", a)\n",
    "print(\"\\nRandom Matrix B of size(3x2):\\n\", b)\n",
    "print(\"\\nResult Matrix (5x2) after multiplication:\\n\", result)\n"
   ]
  },
  {
   "cell_type": "code",
   "execution_count": 107,
   "id": "4ecacef4-82eb-47dc-bd7a-174de2c9e09c",
   "metadata": {
    "scrolled": true
   },
   "outputs": [
    {
     "name": "stdout",
     "output_type": "stream",
     "text": [
      "Displaying only the first 5 rows of the random array:\n",
      " [[1011 1301 1326 1880 1201 1151 1383 1186 1846 1307]\n",
      " [1587 1886 1889 1349 1196 1440 1775 1076 1797 1179]\n",
      " [1310 1520 1020 1452 1758 1642 1247 1505 1928 1213]\n",
      " [1802 1649 1829 1502 1466 1352 1726 1560 1384 1464]\n",
      " [1078 1279 1872 1496 1576 1860 1214 1159 1893 1753]]\n",
      "\n",
      "Average of random array was found to be: 1506.225\n",
      "\n",
      "Variance of random array was found to be: 82879.130375\n",
      "\n",
      "Standard Deviation of random array was found to be: 287.8873570947498\n",
      "\n",
      "Results and original array saved to results.txt\n"
     ]
    }
   ],
   "source": [
    "# q7. Write a NumPy program to create a random array with 1000 elements and compute the\n",
    "# average, variance, standard deviation of the array elements. Save all the results in text file\n",
    "# created at runtime.\n",
    "\n",
    "import numpy as np\n",
    "\n",
    "arr = np.random.randint(1000, 2000+1, size=1000).reshape(-1, 10)#2000+1 so that 2000 also gets included\n",
    "\n",
    "avg = np.average(arr)\n",
    "var = np.var(arr)\n",
    "std = np.std(arr)\n",
    "\n",
    "# Convert the original array to a string too make it look more readable in the file.\n",
    "new_arr = str(arr)\n",
    "\n",
    "with open(\"results.txt\", 'w') as file:\n",
    "    file.write(\"Original Array:\\n\")\n",
    "    file.write(new_arr + '\\n')\n",
    "    file.write(f\"Average: {avg}\\n\")\n",
    "    file.write(f\"Variance: {var}\\n\")\n",
    "    file.write(f\"Standard Deviation: {std}\\n\")\n",
    "\n",
    "\n",
    "print(\"Displaying only the first 5 rows of the random array:\\n\", arr[:5])\n",
    "print(\"\\nAverage of random array was found to be:\", avg)\n",
    "print(\"\\nVariance of random array was found to be:\", var)\n",
    "print(\"\\nStandard Deviation of random array was found to be:\", std)\n",
    "print(\"\\nResults and original array saved to\", \"results.txt\")\n"
   ]
  },
  {
   "cell_type": "code",
   "execution_count": null,
   "id": "9f61e603-1005-4883-bb6e-d92a7f764bec",
   "metadata": {},
   "outputs": [],
   "source": []
  }
 ],
 "metadata": {
  "kernelspec": {
   "display_name": "Python 3 (ipykernel)",
   "language": "python",
   "name": "python3"
  },
  "language_info": {
   "codemirror_mode": {
    "name": "ipython",
    "version": 3
   },
   "file_extension": ".py",
   "mimetype": "text/x-python",
   "name": "python",
   "nbconvert_exporter": "python",
   "pygments_lexer": "ipython3",
   "version": "3.11.5"
  }
 },
 "nbformat": 4,
 "nbformat_minor": 5
}
