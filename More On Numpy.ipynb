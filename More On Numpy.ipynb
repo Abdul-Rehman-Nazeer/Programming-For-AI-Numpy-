{
 "cells": [
  {
   "cell_type": "code",
   "execution_count": 2,
   "id": "98fcba5c-e76e-4b91-a0a0-2ece55db91d7",
   "metadata": {},
   "outputs": [
    {
     "name": "stdout",
     "output_type": "stream",
     "text": [
      "[ 1  2  0 19  0  3 13 19  4  3  4 10 14  9 17 15 10  0 14 15 12]\n"
     ]
    }
   ],
   "source": [
    "import numpy as np\n",
    "import random\n",
    "\n",
    "random_values = []\n",
    "count = 0\n",
    "\n",
    "while count < 20:\n",
    "    random_values.append(random.randint(0, 20))\n",
    "    count += 1\n",
    "\n",
    "numpy_array = np.array([1])\n",
    "numpy_array = np.append(numpy_array, random_values)\n",
    "print(numpy_array)\n"
   ]
  },
  {
   "cell_type": "code",
   "execution_count": 13,
   "id": "686dce70-234e-4460-9301-6541a8e7587f",
   "metadata": {},
   "outputs": [
    {
     "name": "stdout",
     "output_type": "stream",
     "text": [
      "[1 1 2 2 4 2 3 3 1 5 2 1 3 2 4]\n",
      "[5 4 2 4 2]\n"
     ]
    }
   ],
   "source": [
    "import numpy as np\n",
    "\n",
    "binomial_sample = np.random.binomial(n=10, p=0.3, size=15)\n",
    "poisson_sample = np.random.poisson(lam=2, size=5)\n",
    "\n",
    "print(binomial_sample)\n",
    "print(poisson_sample)\n"
   ]
  },
  {
   "cell_type": "code",
   "execution_count": 12,
   "id": "fa29a98c-4a59-43a1-9fb2-8c36010c58d9",
   "metadata": {},
   "outputs": [
    {
     "name": "stdout",
     "output_type": "stream",
     "text": [
      "[[0.13182206 0.90918059]\n",
      " [0.02633191 0.46967088]\n",
      " [0.26923228 0.10611531]]\n"
     ]
    }
   ],
   "source": [
    "import numpy as np\n",
    "\n",
    "rand_matrix = np.random.uniform(size=(3, 2))\n",
    "print(rand_matrix)\n"
   ]
  },
  {
   "cell_type": "code",
   "execution_count": 16,
   "id": "2e3e0cc5-5287-403b-8d9a-45533be89dc9",
   "metadata": {},
   "outputs": [
    {
     "name": "stdout",
     "output_type": "stream",
     "text": [
      "[[10.97586344  1.75525514]\n",
      " [ 0.44861284  3.21716616]]\n"
     ]
    }
   ],
   "source": [
    "import numpy as np\n",
    "\n",
    "logsamples = np.random.logistic(loc=2, scale=2, size=(2, 2))\n",
    "print(logsamples)\n"
   ]
  },
  {
   "cell_type": "code",
   "execution_count": 17,
   "id": "5a87bc66-9412-41a2-b269-2778004b012c",
   "metadata": {},
   "outputs": [
    {
     "name": "stdout",
     "output_type": "stream",
     "text": [
      "[2.0 1.75 0.3333333333333333 0.5]\n"
     ]
    }
   ],
   "source": [
    "import numpy as np\n",
    "\n",
    "def divideelementwise(arr1, arr2):\n",
    "    return np.divide(arr1, arr2)\n",
    "\n",
    "dividearrays = np.frompyfunc(divideelementwise, 2, 1)\n",
    "array1 = np.array([10, 7, 3, 2])\n",
    "array2 = np.array([5, 4, 9, 4])\n",
    "result = dividearrays(array1, array2)\n",
    "print(result)\n"
   ]
  },
  {
   "cell_type": "code",
   "execution_count": 20,
   "id": "2191ada9-9068-4ac8-a144-8d3eb910d773",
   "metadata": {},
   "outputs": [
    {
     "name": "stdout",
     "output_type": "stream",
     "text": [
      "[[1.30809664]\n",
      " [0.17180555]]\n"
     ]
    }
   ],
   "source": [
    "import numpy as np\n",
    "\n",
    "normalsamples = np.random.normal(size=(2, 1))\n",
    "print(normalsamples)\n"
   ]
  },
  {
   "cell_type": "code",
   "execution_count": null,
   "id": "c7df5ce5-280b-4253-acbd-752cf0ffc73f",
   "metadata": {},
   "outputs": [],
   "source": []
  }
 ],
 "metadata": {
  "kernelspec": {
   "display_name": "Python 3 (ipykernel)",
   "language": "python",
   "name": "python3"
  },
  "language_info": {
   "codemirror_mode": {
    "name": "ipython",
    "version": 3
   },
   "file_extension": ".py",
   "mimetype": "text/x-python",
   "name": "python",
   "nbconvert_exporter": "python",
   "pygments_lexer": "ipython3",
   "version": "3.11.5"
  }
 },
 "nbformat": 4,
 "nbformat_minor": 5
}
